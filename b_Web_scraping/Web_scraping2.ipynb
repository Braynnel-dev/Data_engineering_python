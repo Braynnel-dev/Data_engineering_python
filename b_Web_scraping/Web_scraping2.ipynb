{
 "cells": [
  {
   "cell_type": "markdown",
   "metadata": {},
   "source": [
    "# Web request 2"
   ]
  },
  {
   "cell_type": "code",
   "execution_count": 10,
   "metadata": {},
   "outputs": [],
   "source": [
    "import requests\n",
    "\n",
    "response = requests.get(\"https://platzi.com\")\n",
    "response.encoding = 'utf-8'"
   ]
  },
  {
   "cell_type": "markdown",
   "metadata": {},
   "source": [
    "## HTML Information extraction"
   ]
  },
  {
   "cell_type": "code",
   "execution_count": 11,
   "metadata": {},
   "outputs": [
    {
     "name": "stdout",
     "output_type": "stream",
     "text": [
      "🚀Platzi: ‎Cursos Online Profesionales de Tecnología\n"
     ]
    }
   ],
   "source": [
    "import bs4 #import beautifulsoup\n",
    "\n",
    "# el siguiente paso es generar un parser que nos va a permitir generar queries al documento\n",
    "soup = bs4.BeautifulSoup(response.text, \"html.parser\")   #beautifulsoup también nos permite parsear documentos xml, por lo que debemos decirle que es html en este caso\n",
    "#generamos los queries\n",
    "print(soup.title.text)"
   ]
  },
  {
   "cell_type": "code",
   "execution_count": 12,
   "metadata": {},
   "outputs": [
    {
     "name": "stdout",
     "output_type": "stream",
     "text": [
      "[<meta content=\"Aprende desde cero a crear el futuro web con nuestros Cursos Online Profesionales de Tecnología. 🚀¡Cursos de Desarrollo, Diseño, Marketing y Negocios!\" name=\"description\"/>]\n"
     ]
    }
   ],
   "source": [
    "# para poder seleccionar un selector de CSS\n",
    "print(soup.select(\"meta[name=description]\"))"
   ]
  },
  {
   "cell_type": "code",
   "execution_count": 14,
   "metadata": {},
   "outputs": [
    {
     "name": "stdout",
     "output_type": "stream",
     "text": [
      "Aprende desde cero a crear el futuro web con nuestros Cursos Online Profesionales de Tecnología. 🚀¡Cursos de Desarrollo, Diseño, Marketing y Negocios!\n"
     ]
    }
   ],
   "source": [
    "print(soup.select(\"meta[name=description]\")[0][\"content\"])"
   ]
  },
  {
   "cell_type": "code",
   "execution_count": 58,
   "metadata": {},
   "outputs": [
    {
     "name": "stdout",
     "output_type": "stream",
     "text": [
      "https://platzi.com/cursos/calculo-integral\n",
      "https://platzi.com/cursos/facebook-ads\n",
      "https://platzi.com/cursos/bff\n",
      "https://platzi.com/cursos/twitter-ads\n",
      "https://platzi.com/cursos/svelte\n",
      "https://platzi.com/cursos/periodismo-movil\n",
      "https://platzi.com/cursos/python-lenguaje-natural\n",
      "https://platzi.com/cursos/gestion-cambio\n",
      "https://platzi.com/cursos/pagos-online\n",
      "https://platzi.com/cursos/meditacion\n",
      "https://platzi.com/cursos/devtools\n",
      "https://platzi.com/cursos/keras-neural-networks\n",
      "https://platzi.com/cursos/guion-series\n",
      "https://platzi.com/cursos/arte-escenarios\n",
      "https://platzi.com/cursos/avanzado-vue\n"
     ]
    }
   ],
   "source": [
    "# vamos a obtener todos los vínculos a las clases dentro de la web de platzi,\n",
    "# para esto debemos comenzar a analizar cual es la estructura de la web\n",
    "recent_courses_links = soup.select(\".RecentCourses-item\")\n",
    "courses = [course.a[\"href\"] for course in recent_courses_links]\n",
    "for course in courses: \n",
    "    print(f\"https://platzi.com{course}\")\n"
   ]
  },
  {
   "cell_type": "code",
   "execution_count": null,
   "metadata": {},
   "outputs": [],
   "source": []
  },
  {
   "cell_type": "code",
   "execution_count": null,
   "metadata": {},
   "outputs": [],
   "source": []
  }
 ],
 "metadata": {
  "kernelspec": {
   "display_name": "Python 3",
   "language": "python",
   "name": "python3"
  },
  "language_info": {
   "codemirror_mode": {
    "name": "ipython",
    "version": 3
   },
   "file_extension": ".py",
   "mimetype": "text/x-python",
   "name": "python",
   "nbconvert_exporter": "python",
   "pygments_lexer": "ipython3",
   "version": "3.7.6"
  }
 },
 "nbformat": 4,
 "nbformat_minor": 4
}
